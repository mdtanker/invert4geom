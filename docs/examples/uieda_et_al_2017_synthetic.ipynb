{
 "cells": [
  {
   "cell_type": "markdown",
   "metadata": {},
   "source": [
    "# Synthetic Moho Model from Uieda et al. 2017.\n",
    "\n",
    "Here we attempt to reproduce the simple synthetic Moho inversion from [Uieda et al. 2017:](https://doi.org/10.1093/gji/ggw390) Fast nonlinear gravity inversion in spherical coordinates with application to the South American Moho. They provide functions for creating synthetic Moho topography, which we forward model to create the observed gravity data to use for the inversion."
   ]
  },
  {
   "cell_type": "code",
   "execution_count": null,
   "metadata": {},
   "outputs": [],
   "source": [
    "from __future__ import annotations\n",
    "\n",
    "%load_ext autoreload\n",
    "%autoreload 2\n",
    "\n",
    "import logging\n",
    "import pathlib\n",
    "import pickle\n",
    "\n",
    "import numpy as np\n",
    "import pyproj\n",
    "import scipy as sp\n",
    "import verde as vd\n",
    "import xarray as xr\n",
    "from polartoolkit import maps\n",
    "from polartoolkit import utils as polar_utils\n",
    "\n",
    "from invert4geom import (\n",
    "    cross_validation,\n",
    "    optimization,\n",
    "    plotting,\n",
    "    regional,\n",
    "    synthetic,\n",
    "    utils,\n",
    ")\n",
    "\n",
    "# set up logging to see what's going on\n",
    "logging.basicConfig(level=logging.INFO)"
   ]
  },
  {
   "cell_type": "markdown",
   "metadata": {},
   "source": [
    "# Recreate synthetic topography \n",
    "Here we recreate the synthetic topography model from the paper. We slightly update their code for creating this, and use projected coordinates instead of geographic coordinates, but the models are as similar as possible to the original."
   ]
  },
  {
   "cell_type": "code",
   "execution_count": 2,
   "metadata": {},
   "outputs": [],
   "source": [
    "def gaussian2d(x, y, sigma_x, sigma_y, x0=0, y0=0, angle=0.0):\n",
    "    \"\"\"\n",
    "    Taken from https://legacy.fatiando.org/api/utils.html#fatiando.utils.gaussian2d\n",
    "    which is used in Uieda et al. 2017 paper.\n",
    "    \"\"\"\n",
    "    theta = -1 * angle * np.pi / 180.0\n",
    "    tmpx = 1.0 / sigma_x**2\n",
    "    tmpy = 1.0 / sigma_y**2\n",
    "    sintheta = np.sin(theta)\n",
    "    costheta = np.cos(theta)\n",
    "    a = tmpx * costheta + tmpy * sintheta**2\n",
    "    b = (tmpy - tmpx) * costheta * sintheta\n",
    "    c = tmpx * sintheta**2 + tmpy * costheta**2\n",
    "    xhat = x - x0\n",
    "    yhat = y - y0\n",
    "    return np.exp(-(a * xhat**2 + 2.0 * b * xhat * yhat + c * yhat**2))"
   ]
  },
  {
   "cell_type": "code",
   "execution_count": null,
   "metadata": {},
   "outputs": [],
   "source": [
    "# Make a regular grid inside an area.\n",
    "# Grid points will be the center of the top of each tesseroid in the model\n",
    "shape = (40, 50)  # n, e\n",
    "region_ll = (-50, 50, 10, 70)  # e, n\n",
    "lon, lat = vd.grid_coordinates(region=region_ll, shape=shape)\n",
    "\n",
    "relief = (\n",
    "    -30e3\n",
    "    + 15e3 * sp.special.erf((lon - 10) / 20)\n",
    "    - 10e3 * gaussian2d(lat, lon, 10, 15, x0=25, y0=-30)\n",
    "    + 10e3 * gaussian2d(lat, lon, 15, 20, x0=53, y0=-25)\n",
    "    - 10e3 * gaussian2d(lat, lon, 3, 3, x0=50, y0=30)\n",
    "    - 10e3 * gaussian2d(lat, lon, 10, 10, x0=30, y0=25) ** 2\n",
    "    + 5e3 * gaussian2d(lat, lon, 40, 3, x0=40, y0=40, angle=15)\n",
    ")\n",
    "\n",
    "relief = vd.make_xarray_grid((lon, lat), relief, data_names=\"z\").z\n",
    "\n",
    "# We're choosing the latitude of true scale as the mean latitude of our dataset\n",
    "projection = pyproj.Proj(proj=\"merc\", lat_ts=lat.mean())\n",
    "\n",
    "region = vd.project_region(region_ll, projection)\n",
    "\n",
    "true_moho = vd.project_grid(\n",
    "    relief,\n",
    "    projection,\n",
    "    spacing=50e3,\n",
    "    # shape=shape,\n",
    "    # region=region,\n",
    "    adjust=\"region\",\n",
    "    # dims=(\"northing\", \"easting\")\n",
    "    # dims=(\"easting\", \"northing\"),\n",
    ")\n",
    "coords = vd.grid_coordinates(\n",
    "    region=region,\n",
    "    shape=shape,\n",
    ")\n",
    "\n",
    "grid = vd.make_xarray_grid(coords, np.ones_like(coords[0]), data_names=\"z\").z\n",
    "grid = grid.rio.set_spatial_dims(\"easting\", \"northing\").rio.write_crs(\"epsg:4326\")\n",
    "true_moho = true_moho.rio.set_spatial_dims(\"easting\", \"northing\").rio.write_crs(\n",
    "    \"epsg:4326\"\n",
    ")\n",
    "true_moho = (\n",
    "    true_moho.rio.reproject_match(grid)\n",
    "    .drop(\"spatial_ref\")\n",
    "    .rename({\"x\": \"easting\", \"y\": \"northing\"})\n",
    ")\n",
    "true_moho"
   ]
  },
  {
   "cell_type": "code",
   "execution_count": null,
   "metadata": {},
   "outputs": [],
   "source": [
    "fig = maps.plot_grd(\n",
    "    true_moho,\n",
    "    fig_height=10,\n",
    "    title=\"True Moho topography\",\n",
    "    hist=True,\n",
    "    cmap=\"rain\",\n",
    "    reverse_cpt=True,\n",
    "    cbar_yoffset=1,\n",
    "    cbar_label=\"elevation (m)\",\n",
    "    robust=True,\n",
    "    frame=[\"nSWe\", \"xaf10000\", \"yaf10000\"],\n",
    ")\n",
    "fig.show()"
   ]
  },
  {
   "cell_type": "markdown",
   "metadata": {},
   "source": [
    "# Observed gravity data\n",
    "We can know forward-model the effects of this topography and add some noise to make a synthetic observed gravity dataset."
   ]
  },
  {
   "cell_type": "code",
   "execution_count": null,
   "metadata": {},
   "outputs": [],
   "source": [
    "# Define the reference level (height in meters).\n",
    "# This is the Moho depth of the Normal Earth\n",
    "true_zref = -30e3\n",
    "\n",
    "# The density contrast is negative if the relief is below the reference\n",
    "true_density_contrast = 400\n",
    "density_grid = xr.where(\n",
    "    true_moho >= true_zref, true_density_contrast, -true_density_contrast\n",
    ")\n",
    "\n",
    "# make prism layer\n",
    "prisms = utils.grids_to_prisms(true_moho, true_zref, density=density_grid)\n",
    "\n",
    "plotting.show_prism_layers(\n",
    "    prisms,\n",
    "    color_by=\"thickness\",\n",
    "    log_scale=False,\n",
    "    zscale=20,\n",
    "    backend=\"static\",\n",
    ")"
   ]
  },
  {
   "cell_type": "code",
   "execution_count": null,
   "metadata": {},
   "outputs": [],
   "source": [
    "spacing, region, _, _, _ = polar_utils.get_grid_info(true_moho)\n",
    "spacing, region"
   ]
  },
  {
   "cell_type": "code",
   "execution_count": null,
   "metadata": {},
   "outputs": [],
   "source": [
    "# make pandas dataframe of locations to calculate gravity\n",
    "# this represents the station locations of a gravity survey\n",
    "# create lists of coordinates\n",
    "coords = vd.grid_coordinates(\n",
    "    region=region,\n",
    "    spacing=spacing,\n",
    "    pixel_register=False,\n",
    "    extra_coords=50e3,  # survey elevation\n",
    ")\n",
    "\n",
    "# grid the coordinates\n",
    "observations = vd.make_xarray_grid(\n",
    "    (coords[0], coords[1]),\n",
    "    data=coords[2],\n",
    "    data_names=\"upward\",\n",
    "    dims=(\"northing\", \"easting\"),\n",
    ").upward\n",
    "\n",
    "grav_df = vd.grid_to_table(observations)\n",
    "\n",
    "# resample to half spacing\n",
    "grav_df = cross_validation.resample_with_test_points(spacing, grav_df, region)\n",
    "grav_df\n",
    "\n",
    "grav_df[\"gravity_anomaly\"] = prisms.prism_layer.gravity(\n",
    "    coordinates=(\n",
    "        grav_df.easting,\n",
    "        grav_df.northing,\n",
    "        grav_df.upward,\n",
    "    ),\n",
    "    field=\"g_z\",\n",
    "    progressbar=True,\n",
    ")\n",
    "# contaminate gravity with random noise\n",
    "grav_df[\"gravity_anomaly\"], stddev = synthetic.contaminate(\n",
    "    grav_df.gravity_anomaly,\n",
    "    stddev=5,\n",
    "    percent=False,\n",
    "    seed=0,\n",
    ")\n",
    "\n",
    "grav_df.describe()"
   ]
  },
  {
   "cell_type": "code",
   "execution_count": null,
   "metadata": {},
   "outputs": [],
   "source": [
    "grav_grid = grav_df.set_index([\"northing\", \"easting\"]).to_xarray()\n",
    "\n",
    "fig = maps.plot_grd(\n",
    "    grav_grid.gravity_anomaly,\n",
    "    fig_height=10,\n",
    "    title=\"Forward gravity of true topography\",\n",
    "    hist=True,\n",
    "    cbar_yoffset=1,\n",
    "    cmap=\"balance+h0\",\n",
    "    cbar_label=\"mGal\",\n",
    "    robust=True,\n",
    "    frame=[\"nSWe\", \"xaf10000\", \"yaf10000\"],\n",
    ")\n",
    "fig.show()"
   ]
  },
  {
   "cell_type": "code",
   "execution_count": null,
   "metadata": {},
   "outputs": [],
   "source": [
    "true_zref, true_density_contrast"
   ]
  },
  {
   "cell_type": "markdown",
   "metadata": {},
   "source": [
    "# Starting model\n",
    "Following the paper's approach, we create a starting model which uses the true values of the density contrast and reference level for the Moho. This is used during the damping parameter cross-validation."
   ]
  },
  {
   "cell_type": "code",
   "execution_count": null,
   "metadata": {},
   "outputs": [],
   "source": [
    "# create flat topography grid with a constant height equal the mean of the starting\n",
    "# topography (zref)\n",
    "zref = true_zref\n",
    "density_contrast = true_density_contrast\n",
    "starting_topography = xr.full_like(true_moho, zref)\n",
    "\n",
    "# prisms above zref have positive density contrast and prisms below zref have negative\n",
    "# density contrast\n",
    "density_grid = xr.where(\n",
    "    starting_topography >= zref, density_contrast, -density_contrast\n",
    ")\n",
    "\n",
    "# create layer of prisms\n",
    "starting_prisms = utils.grids_to_prisms(\n",
    "    starting_topography,\n",
    "    zref,\n",
    "    density=density_grid,\n",
    ")\n",
    "\n",
    "# since our starting model is flat, the starting gravity is 0\n",
    "grav_df[\"starting_gravity\"] = 0\n",
    "\n",
    "# in many cases, we want to remove a regional signal from the misfit to isolate the\n",
    "# residual signal. In this simple case, we assume there is no regional misfit and set\n",
    "# it to 0\n",
    "grav_df = regional.regional_separation(\n",
    "    method=\"constant\",\n",
    "    constant=0,\n",
    "    grav_df=grav_df,\n",
    ")\n",
    "grav_df"
   ]
  },
  {
   "cell_type": "markdown",
   "metadata": {},
   "source": [
    "# Damping parameter cross validation"
   ]
  },
  {
   "cell_type": "markdown",
   "metadata": {},
   "source": [
    "## Get individual score\n",
    "\n",
    "We will perform an inversion with a single damping value and calculate a `score` for it. The grid shows how to `score` is calculated, as the RMS difference between the predicted and observed gravity data."
   ]
  },
  {
   "cell_type": "code",
   "execution_count": null,
   "metadata": {},
   "outputs": [],
   "source": [
    "# set kwargs to pass to the inversion\n",
    "kwargs = {\n",
    "    # set stopping criteria\n",
    "    \"max_iterations\": 300,\n",
    "    \"l2_norm_tolerance\": 2.2,  # gravity error is 5 mGal or L2-norm of ~2.2\n",
    "    \"delta_l2_norm_tolerance\": 1.008,\n",
    "}\n",
    "\n",
    "# run inversion, calculate the score, and plot the predicted and observed gravity for\n",
    "# the testing dataset\n",
    "score, results = cross_validation.grav_cv_score(\n",
    "    training_data=grav_df[grav_df.test == False],\n",
    "    testing_data=grav_df[grav_df.test == True],\n",
    "    prism_layer=starting_prisms,\n",
    "    solver_damping=0.01,\n",
    "    progressbar=True,\n",
    "    plot=True,\n",
    "    **kwargs,\n",
    ")\n",
    "\n",
    "score"
   ]
  },
  {
   "cell_type": "markdown",
   "metadata": {},
   "source": [
    "## Cross Validation Optimization"
   ]
  },
  {
   "cell_type": "code",
   "execution_count": null,
   "metadata": {},
   "outputs": [],
   "source": [
    "study, inversion_results = optimization.optimize_inversion_damping(\n",
    "    training_df=grav_df[grav_df.test == False],\n",
    "    testing_df=grav_df[grav_df.test == True],\n",
    "    prism_layer=starting_prisms,\n",
    "    damping_limits=(0.001, 1),\n",
    "    n_trials=8,\n",
    "    # grid_search=True,\n",
    "    # plot_grids=True,\n",
    "    fname=\"../tmp/uieda_synthetic_damping_CV\",\n",
    "    **kwargs,\n",
    ")"
   ]
  },
  {
   "cell_type": "code",
   "execution_count": 13,
   "metadata": {},
   "outputs": [],
   "source": [
    "# to re-load the study from the saved pickle file\n",
    "with pathlib.Path(\"../tmp/uieda_synthetic_damping_CV_study.pickle\").open(\"rb\") as f:\n",
    "    study = pickle.load(f)\n",
    "\n",
    "# to re-load the inversion results from the saved pickle file\n",
    "with pathlib.Path(\"../tmp/uieda_synthetic_damping_CV_results.pickle\").open(\"rb\") as f:\n",
    "    inversion_results = pickle.load(f)\n",
    "\n",
    "# collect the results\n",
    "topo_results, grav_results, parameters, elapsed_time = inversion_results"
   ]
  },
  {
   "cell_type": "code",
   "execution_count": null,
   "metadata": {},
   "outputs": [],
   "source": [
    "best_damping = study.best_params.get(\"damping\")\n",
    "best_damping"
   ]
  },
  {
   "cell_type": "markdown",
   "metadata": {},
   "source": [
    "The above plot shows the results of the damping parameter cross validation, and is equivalent to Figure 5e in the paper. The main difference is that we use a optimization approach instead of a grid search. This allows us to find the best value in fewer trials, as the parameter search space is quickly narrowed down. We performed 8 trials, compared to the 16 trials used in the paper."
   ]
  },
  {
   "cell_type": "code",
   "execution_count": null,
   "metadata": {},
   "outputs": [],
   "source": [
    "dampings = [\n",
    "    (t.params[\"damping\"], t.user_attrs[\"results\"][0]) for t in study.get_trials()\n",
    "]\n",
    "dampings = sorted(dampings, key=lambda x: x[0])\n",
    "\n",
    "for damp, df in dampings:\n",
    "    final_topography = df.set_index([\"northing\", \"easting\"]).to_xarray().topo\n",
    "\n",
    "    _ = polar_utils.grd_compare(\n",
    "        true_moho,\n",
    "        final_topography,\n",
    "        plot=True,\n",
    "        grid1_name=\"True topography\",\n",
    "        grid2_name=\"Inverted topography\",\n",
    "        robust=True,\n",
    "        hist=True,\n",
    "        inset=False,\n",
    "        verbose=\"q\",\n",
    "        title=f\"Damping: {damp}\",\n",
    "        grounding_line=False,\n",
    "        reverse_cpt=True,\n",
    "        cmap=\"rain\",\n",
    "    )"
   ]
  },
  {
   "cell_type": "markdown",
   "metadata": {},
   "source": [
    "# Inversion results"
   ]
  },
  {
   "cell_type": "code",
   "execution_count": null,
   "metadata": {},
   "outputs": [],
   "source": [
    "plotting.plot_convergence(\n",
    "    grav_results,\n",
    "    parameters,\n",
    ")"
   ]
  },
  {
   "cell_type": "code",
   "execution_count": null,
   "metadata": {},
   "outputs": [],
   "source": [
    "plotting.plot_inversion_results(\n",
    "    grav_results,\n",
    "    topo_results,\n",
    "    parameters,\n",
    "    region,\n",
    "    iters_to_plot=2,\n",
    "    plot_iter_results=True,\n",
    "    plot_topo_results=False,\n",
    "    plot_grav_results=True,\n",
    ")"
   ]
  },
  {
   "cell_type": "markdown",
   "metadata": {},
   "source": [
    "The top plot above compares gravity misfit before and after the inversion. The right subplot is equivalent to Figure 5c in the paper. \n",
    "\n",
    "The lower plot shows the iteration results of the inversion, and has all the parameter values and metadata at the top. From this, you can see the inversion terminated after 2 iterations due to the inversion reaching the set L2-norm tolerance. "
   ]
  },
  {
   "cell_type": "markdown",
   "metadata": {},
   "source": [
    "# Compare inverted with true topography\n",
    "The plot below shows how the inversion performed. In the title, you can see the root mean squared difference (RMSE) between the true moho topography and the inversion topography, and the colorbar histogram shows the distribution of the differences. \n",
    "\n",
    "The errors appear to be normally distributed around 0, with max and min values of around 2km. Ueida et al. 2017 reported max and min errors of 2.19 and 2.13km, showing the similar effectiveness of these two inversions."
   ]
  },
  {
   "cell_type": "code",
   "execution_count": null,
   "metadata": {},
   "outputs": [],
   "source": [
    "final_topography = topo_results.set_index([\"northing\", \"easting\"]).to_xarray().topo\n",
    "\n",
    "_ = polar_utils.grd_compare(\n",
    "    true_moho,\n",
    "    final_topography,\n",
    "    plot=True,\n",
    "    region=region,\n",
    "    grid1_name=\"True topography\",\n",
    "    grid2_name=\"Inverted topography\",\n",
    "    # robust=True,\n",
    "    hist=True,\n",
    "    inset=False,\n",
    "    verbose=\"q\",\n",
    "    title=\"difference\",\n",
    "    grounding_line=False,\n",
    "    reverse_cpt=True,\n",
    "    cmap=\"rain\",\n",
    ")"
   ]
  },
  {
   "cell_type": "code",
   "execution_count": null,
   "metadata": {},
   "outputs": [],
   "source": []
  }
 ],
 "metadata": {
  "kernelspec": {
   "display_name": "invert4geom",
   "language": "python",
   "name": "python3"
  },
  "language_info": {
   "codemirror_mode": {
    "name": "ipython",
    "version": 3
   },
   "file_extension": ".py",
   "mimetype": "text/x-python",
   "name": "python",
   "nbconvert_exporter": "python",
   "pygments_lexer": "ipython3",
   "version": "3.12.8"
  }
 },
 "nbformat": 4,
 "nbformat_minor": 2
}
