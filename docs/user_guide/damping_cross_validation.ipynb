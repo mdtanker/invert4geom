{
 "cells": [
  {
   "cell_type": "markdown",
   "metadata": {},
   "source": [
    "# Damping value cross validation\n",
    "The choice of the damping value used in the inversion directly affects the results and therefore needs to be carefully chosen. We provides some tools to perform a cross-validation with a range of damping values in order to chose the optimal value.\n",
    "\n",
    "This cross validation routine is adapted from *Uieda & Barbosa 2017* (DOI: 10.1093/gji/ggw390). The their paper for a detailed discussion.\n",
    "\n",
    "The main idea is to re-sample the gravity data at a finer resolution and seperate the data into a `testing` and `training` set. The inversion is performed with a range of damping values, each time using just the `training` set. Each resulting inverted topo from each of the damping values is then forward modelled onto the locations of the `testing` data, which were not included in the inversion. The optimal damping value is the one which results in the smallest difference between the forward modeled data and the `testing` data. "
   ]
  },
  {
   "cell_type": "markdown",
   "metadata": {},
   "source": [
    "## Import packages"
   ]
  },
  {
   "cell_type": "code",
   "execution_count": null,
   "metadata": {},
   "outputs": [],
   "source": [
    "from __future__ import annotations\n",
    "\n",
    "%load_ext autoreload\n",
    "%autoreload 2\n",
    "\n",
    "\n",
    "import logging\n",
    "\n",
    "import numpy as np\n",
    "import verde as vd\n",
    "import xarray as xr\n",
    "from antarctic_plots import utils as ap_utils\n",
    "\n",
    "from invert4geom import cross_validation, inversion, plotting, synthetic, utils\n",
    "\n",
    "# set Python's logging level to suppress information about the inversion\\s progress\n",
    "logger = logging.getLogger()\n",
    "logger.setLevel(logging.WARNING)"
   ]
  },
  {
   "cell_type": "markdown",
   "metadata": {},
   "source": [
    "## Create observed gravity data"
   ]
  },
  {
   "cell_type": "markdown",
   "metadata": {},
   "source": [
    "### True topography"
   ]
  },
  {
   "cell_type": "code",
   "execution_count": null,
   "metadata": {},
   "outputs": [],
   "source": [
    "# set grid parameters\n",
    "spacing = 1000\n",
    "region = [0, 40000, 0, 30000]\n",
    "\n",
    "# create synthetic topography data\n",
    "true_topography = synthetic.synthetic_topography_simple(\n",
    "    spacing,\n",
    "    region,\n",
    ")"
   ]
  },
  {
   "cell_type": "markdown",
   "metadata": {},
   "source": [
    "### Prism layer"
   ]
  },
  {
   "cell_type": "code",
   "execution_count": null,
   "metadata": {},
   "outputs": [],
   "source": [
    "# the density contrast is between rock (~2670 kg/m3) and air (~1 kg/m3)\n",
    "density_contrast = 2670 - 1\n",
    "\n",
    "# prisms are created between the mean topography value and the height of the topography\n",
    "zref = true_topography.values.mean()\n",
    "\n",
    "# prisms above zref have positive density contrast and prisms below zref have negative\n",
    "# density contrast\n",
    "density = xr.where(true_topography >= zref, density_contrast, -density_contrast)\n",
    "\n",
    "# create layer of prisms\n",
    "prisms = utils.grids_to_prisms(\n",
    "    true_topography,\n",
    "    zref,\n",
    "    density=density,\n",
    ")"
   ]
  },
  {
   "cell_type": "markdown",
   "metadata": {},
   "source": [
    "### Forward gravity of prism layer"
   ]
  },
  {
   "cell_type": "code",
   "execution_count": null,
   "metadata": {},
   "outputs": [],
   "source": [
    "# make pandas dataframe of locations to calculate gravity\n",
    "# this represents the station locations of a gravity survey\n",
    "# create lists of coordinates\n",
    "coords = vd.grid_coordinates(\n",
    "    region=region,\n",
    "    spacing=spacing,\n",
    "    pixel_register=False,\n",
    "    extra_coords=1000,\n",
    ")\n",
    "\n",
    "# grid the coordinates\n",
    "observations = vd.make_xarray_grid(\n",
    "    (coords[0], coords[1]),\n",
    "    data=coords[2],\n",
    "    data_names=\"upward\",\n",
    "    dims=(\"northing\", \"easting\"),\n",
    ").upward\n",
    "\n",
    "grav_df = vd.grid_to_table(observations)\n",
    "\n",
    "grav_df[\"observed_grav\"] = prisms.prism_layer.gravity(\n",
    "    coordinates=(\n",
    "        grav_df.easting,\n",
    "        grav_df.northing,\n",
    "        grav_df.upward,\n",
    "    ),\n",
    "    field=\"g_z\",\n",
    "    progressbar=True,\n",
    ")\n",
    "\n",
    "grav_df"
   ]
  },
  {
   "cell_type": "markdown",
   "metadata": {},
   "source": [
    "### Resample to create testing / training data sets"
   ]
  },
  {
   "cell_type": "code",
   "execution_count": null,
   "metadata": {},
   "outputs": [],
   "source": [
    "# resample to half spacing\n",
    "grav_df = cross_validation.resample_with_test_points(spacing, grav_df, region)\n",
    "grav_df"
   ]
  },
  {
   "cell_type": "markdown",
   "metadata": {},
   "source": [
    "## Gravity misfit\n",
    "\n",
    "As in the last notebook, for simplicity here we assume that we know the true density contrast and mean value of the true topography, and use these values to create our starting model. Note that in a real world scenario, these would be unknowns which would need to be carefully chosen, as explained in the following notebooks."
   ]
  },
  {
   "cell_type": "code",
   "execution_count": null,
   "metadata": {},
   "outputs": [],
   "source": [
    "# create flat topography grid with a constant height equal the mean of the starting\n",
    "# topography (zref)\n",
    "starting_topography = xr.full_like(true_topography, zref)\n",
    "\n",
    "# prisms above zref have positive density contrast and prisms below zref have negative\n",
    "# density contrast\n",
    "density = xr.where(starting_topography >= zref, density_contrast, -density_contrast)\n",
    "\n",
    "# create layer of prisms\n",
    "starting_prisms = utils.grids_to_prisms(\n",
    "    starting_topography,\n",
    "    zref,\n",
    "    density=density,\n",
    ")\n",
    "\n",
    "# calculate forward gravity of starting prism layer\n",
    "grav_df[\"starting_grav\"] = starting_prisms.prism_layer.gravity(\n",
    "    coordinates=(\n",
    "        grav_df.easting,\n",
    "        grav_df.northing,\n",
    "        grav_df.upward,\n",
    "    ),\n",
    "    field=\"g_z\",\n",
    "    progressbar=True,\n",
    ")\n",
    "\n",
    "# calculate misfit as observed - starting\n",
    "grav_df[\"misfit\"] = grav_df[\"observed_grav\"] - grav_df[\"starting_grav\"]\n",
    "\n",
    "# in many cases, we want to remove a regional signal from the misfit to isolate the\n",
    "# residual signal. In this simple case, we assume there is no regional misfit and the\n",
    "# full misfit is equal to the residual misfit.\n",
    "\n",
    "# set regional misfit to 0\n",
    "grav_df[\"reg\"] = 0\n",
    "\n",
    "# set the residual misfit to the full misfit\n",
    "grav_df[\"res\"] = grav_df.misfit"
   ]
  },
  {
   "cell_type": "markdown",
   "metadata": {},
   "source": [
    "## Get Cross Validation Score\n",
    "\n",
    "We will perform an inversion with a single damping value and calculate a `score` for it."
   ]
  },
  {
   "cell_type": "code",
   "execution_count": null,
   "metadata": {},
   "outputs": [],
   "source": [
    "# set Python's logging level\n",
    "logger = logging.getLogger()\n",
    "logger.setLevel(logging.WARNING)\n",
    "\n",
    "# set kwargs to pass to the inversion\n",
    "kwargs = {\n",
    "    \"input_grav_column\": \"observed_grav\",\n",
    "    \"prism_layer\": starting_prisms,\n",
    "    \"deriv_type\": \"annulus\",\n",
    "    \"zref\": zref,\n",
    "    \"density_contrast\": density_contrast,\n",
    "    \"solver_damping\": 0.01,\n",
    "    # set stopping criteria\n",
    "    \"max_iterations\": 30,\n",
    "    \"l2_norm_tolerance\": 0.3,\n",
    "    \"delta_l2_norm_tolerance\": 1.001,\n",
    "}\n",
    "\n",
    "# run inversion, calculate the score, and plot the predicted and observed gravity for\n",
    "# the testing dataset\n",
    "score = cross_validation.grav_cv_score(\n",
    "    training_data=grav_df[grav_df.test == False],  # noqa: E712\n",
    "    testing_data=grav_df[grav_df.test == True],  # noqa: E712\n",
    "    progressbar=True,\n",
    "    plot=True,\n",
    "    **kwargs,\n",
    ")\n",
    "score"
   ]
  },
  {
   "cell_type": "markdown",
   "metadata": {},
   "source": [
    "## Cross Validation\n",
    "Now we can repeat this with a range of damping parameters to find the optimal (lowest) score."
   ]
  },
  {
   "cell_type": "code",
   "execution_count": null,
   "metadata": {},
   "outputs": [],
   "source": [
    "# set Python's logging level\n",
    "logger = logging.getLogger()\n",
    "logger.setLevel(logging.WARNING)\n",
    "\n",
    "# set which damping parameters to include\n",
    "dampings = np.logspace(-4, 1, 8)\n",
    "\n",
    "best_damping, _, _, scores = cross_validation.grav_optimal_parameter(\n",
    "    training_data=grav_df[grav_df.test == False],  # noqa: E712\n",
    "    testing_data=grav_df[grav_df.test == True],  # noqa: E712\n",
    "    param_to_test=(\"solver_damping\", dampings),\n",
    "    progressbar=True,\n",
    "    plot_grids=True,\n",
    "    plot_cv=False,\n",
    "    verbose=True,\n",
    "    **kwargs,\n",
    ")"
   ]
  },
  {
   "cell_type": "code",
   "execution_count": null,
   "metadata": {},
   "outputs": [],
   "source": [
    "# Compare the scores and the damping values\n",
    "plotting.plot_cv_scores(\n",
    "    scores,\n",
    "    dampings,\n",
    "    param_name=\"Damping\",\n",
    "    logx=True,\n",
    "    logy=True,\n",
    ")"
   ]
  },
  {
   "cell_type": "markdown",
   "metadata": {},
   "source": [
    "## Run inversion with optimal value"
   ]
  },
  {
   "cell_type": "code",
   "execution_count": null,
   "metadata": {},
   "outputs": [],
   "source": [
    "# set Python's logging level\n",
    "logger = logging.getLogger()\n",
    "logger.setLevel(logging.INFO)\n",
    "\n",
    "results = inversion.run_inversion(\n",
    "    input_grav=grav_df,\n",
    "    plot_convergence=True,\n",
    "    solver_damping=best_damping,\n",
    "    zref=kwargs.pop(\"zref\"),\n",
    "    density_contrast=kwargs.pop(\"density_contrast\"),\n",
    "    **kwargs,\n",
    ")\n",
    "\n",
    "# collect the results\n",
    "topo_results, grav_results, parameters, elapsed_time = results"
   ]
  },
  {
   "cell_type": "code",
   "execution_count": null,
   "metadata": {},
   "outputs": [],
   "source": [
    "plotting.plot_inversion_results(\n",
    "    grav_results,\n",
    "    topo_results,\n",
    "    parameters,\n",
    "    region,\n",
    "    spacing,\n",
    "    iters_to_plot=4,\n",
    "    plot_iter_results=True,\n",
    "    plot_topo_results=True,\n",
    "    plot_grav_results=True,\n",
    ")"
   ]
  },
  {
   "cell_type": "code",
   "execution_count": null,
   "metadata": {},
   "outputs": [],
   "source": [
    "final_topography = topo_results.set_index([\"northing\", \"easting\"]).to_xarray().topo\n",
    "\n",
    "_ = ap_utils.grd_compare(\n",
    "    true_topography,\n",
    "    final_topography,\n",
    "    plot_type=\"xarray\",\n",
    "    plot=True,\n",
    "    grid1_name=\"True topography\",\n",
    "    grid2_name=\"Inverted topography\",\n",
    "    robust=True,\n",
    "    hist=True,\n",
    "    inset=False,\n",
    "    verbose=\"q\",\n",
    "    title=\"difference\",\n",
    "    grounding_line=False,\n",
    "    # reverse_cpt=True,\n",
    "    # cmap=\"rain\",\n",
    "    diff_lims=(-20, 20),\n",
    ")"
   ]
  },
  {
   "cell_type": "markdown",
   "metadata": {},
   "source": [
    "In the past example (`simple_inversion.ipynb`), we arbitrarily chose a damping value. Here, we show how by finding the optimal damping value using a cross-validation, we have improved the inversion's performance.\n",
    "\n",
    "The next notebook, `density_cross_validation.ipynb`, will show how to perform a similar cross validation for choosing a density contrast value."
   ]
  },
  {
   "cell_type": "markdown",
   "metadata": {},
   "source": [
    "#"
   ]
  }
 ],
 "metadata": {
  "kernelspec": {
   "display_name": "invert4geom",
   "language": "python",
   "name": "python3"
  },
  "language_info": {
   "codemirror_mode": {
    "name": "ipython",
    "version": 3
   },
   "file_extension": ".py",
   "mimetype": "text/x-python",
   "name": "python",
   "nbconvert_exporter": "python",
   "pygments_lexer": "ipython3",
   "version": "3.11.6"
  }
 },
 "nbformat": 4,
 "nbformat_minor": 2
}
