{
 "cells": [
  {
   "cell_type": "markdown",
   "metadata": {},
   "source": [
    "# Variable density values\n",
    "Here we will extend the `simple_inversion.ipynb` example by using variable density contrast values. We create a map of density contrast values, and supply that instead of the constant density contrast value. This is useful for situations where you know the density contrast across your topographic layer is interest is variable, such as modelled the sediment-basement contact where the basement density changes regionally. "
   ]
  },
  {
   "cell_type": "markdown",
   "metadata": {},
   "source": [
    "## Import packages"
   ]
  },
  {
   "cell_type": "code",
   "execution_count": null,
   "metadata": {
    "execution": {
     "iopub.execute_input": "2024-02-22T01:02:23.633874Z",
     "iopub.status.busy": "2024-02-22T01:02:23.633442Z",
     "iopub.status.idle": "2024-02-22T01:02:25.622430Z",
     "shell.execute_reply": "2024-02-22T01:02:25.621949Z"
    }
   },
   "outputs": [],
   "source": [
    "from __future__ import annotations\n",
    "\n",
    "%load_ext autoreload\n",
    "%autoreload 2\n",
    "\n",
    "import logging\n",
    "\n",
    "import verde as vd\n",
    "import xarray as xr\n",
    "from polartoolkit import maps\n",
    "from polartoolkit import utils as polar_utils\n",
    "\n",
    "from invert4geom import inversion, plotting, regional, synthetic, utils\n",
    "\n",
    "# set up logging to see what's going on\n",
    "logging.basicConfig(level=logging.INFO)"
   ]
  },
  {
   "cell_type": "markdown",
   "metadata": {},
   "source": [
    "## Create observed gravity data\n",
    "To run the inversion, we need to have observed gravity data. In this simple example, we will first create a synthetic topography, which represents the `true` Earth topography which we hope to recover during the inverison. From this topography, we will create a layer of vertical right-rectangular prisms, which allows us to calculated the gravity effect of the topography. This will act as our observed gravity data. "
   ]
  },
  {
   "cell_type": "markdown",
   "metadata": {},
   "source": [
    "### True topography"
   ]
  },
  {
   "cell_type": "code",
   "execution_count": null,
   "metadata": {
    "execution": {
     "iopub.execute_input": "2024-02-22T01:02:25.625513Z",
     "iopub.status.busy": "2024-02-22T01:02:25.625019Z",
     "iopub.status.idle": "2024-02-22T01:02:26.855674Z",
     "shell.execute_reply": "2024-02-22T01:02:26.855226Z"
    }
   },
   "outputs": [],
   "source": [
    "spacing = 1000\n",
    "region = (0, 40000, 0, 30000)\n",
    "\n",
    "true_topography, _, _, _ = synthetic.load_synthetic_model(\n",
    "    spacing=spacing,\n",
    "    region=region,\n",
    ")\n",
    "\n",
    "# plot the true topography\n",
    "fig = maps.plot_grd(\n",
    "    true_topography,\n",
    "    fig_height=10,\n",
    "    title=\"True topography\",\n",
    "    cmap=\"rain\",\n",
    "    reverse_cpt=True,\n",
    "    grd2_cpt=True,\n",
    "    cbar_label=\"elevation (m)\",\n",
    "    frame=[\"nSWe\", \"xaf10000\", \"yaf10000\"],\n",
    ")\n",
    "fig.show()\n",
    "\n",
    "true_topography"
   ]
  },
  {
   "cell_type": "markdown",
   "metadata": {},
   "source": [
    "### Density distribution"
   ]
  },
  {
   "cell_type": "code",
   "execution_count": null,
   "metadata": {},
   "outputs": [],
   "source": [
    "# create some random synthetic data\n",
    "synthetic_data = synthetic.synthetic_topography_regional(\n",
    "    spacing,\n",
    "    region,\n",
    "    yoffset=20,\n",
    ")\n",
    "\n",
    "# the first density contrast is between sediment (~2300 kg/m3) and air (~1 kg/m3)\n",
    "density_contrast_1 = 1800 - 1\n",
    "\n",
    "# the second density contrast is between crystalline basement (~2800 kg/m3) and air\n",
    "# (~1 kg/m3)\n",
    "density_contrast_2 = 3000 - 1\n",
    "\n",
    "# use it to create a surface density distribution\n",
    "density_dist = xr.where(synthetic_data > 0, density_contrast_1, density_contrast_2)\n",
    "\n",
    "density_dist.plot()"
   ]
  },
  {
   "cell_type": "markdown",
   "metadata": {},
   "source": [
    "### Prism layer"
   ]
  },
  {
   "cell_type": "code",
   "execution_count": null,
   "metadata": {
    "execution": {
     "iopub.execute_input": "2024-02-22T01:02:26.857837Z",
     "iopub.status.busy": "2024-02-22T01:02:26.857676Z",
     "iopub.status.idle": "2024-02-22T01:02:27.045582Z",
     "shell.execute_reply": "2024-02-22T01:02:27.044939Z"
    },
    "tags": [
     "nbsphinx-thumbnail"
    ]
   },
   "outputs": [],
   "source": [
    "# prisms are created between the mean topography value and the height of the topography\n",
    "zref = true_topography.values.mean()\n",
    "\n",
    "# prisms above zref have positive density contrast and prisms below zref have negative\n",
    "# density contrast\n",
    "# density contrast values come from above density distribution\n",
    "density_grid = xr.where(true_topography >= zref, density_dist, -density_dist)\n",
    "\n",
    "# create layer of prisms\n",
    "prisms = utils.grids_to_prisms(\n",
    "    true_topography,\n",
    "    zref,\n",
    "    density=density_grid,\n",
    ")\n",
    "\n",
    "plotting.show_prism_layers(\n",
    "    prisms,\n",
    "    color_by=\"density\",\n",
    "    log_scale=False,\n",
    "    zscale=20,\n",
    "    backend=\"static\",\n",
    ")"
   ]
  },
  {
   "cell_type": "markdown",
   "metadata": {},
   "source": [
    "### Forward gravity of prism layer"
   ]
  },
  {
   "cell_type": "code",
   "execution_count": null,
   "metadata": {
    "execution": {
     "iopub.execute_input": "2024-02-22T01:02:27.047511Z",
     "iopub.status.busy": "2024-02-22T01:02:27.047362Z",
     "iopub.status.idle": "2024-02-22T01:02:27.954941Z",
     "shell.execute_reply": "2024-02-22T01:02:27.954368Z"
    }
   },
   "outputs": [],
   "source": [
    "# make pandas dataframe of locations to calculate gravity\n",
    "# this represents the station locations of a gravity survey\n",
    "# create lists of coordinates\n",
    "coords = vd.grid_coordinates(\n",
    "    region=region,\n",
    "    spacing=spacing,\n",
    "    pixel_register=False,\n",
    "    extra_coords=1000,  # survey elevation\n",
    ")\n",
    "\n",
    "# grid the coordinates\n",
    "observations = vd.make_xarray_grid(\n",
    "    (coords[0], coords[1]),\n",
    "    data=coords[2],\n",
    "    data_names=\"upward\",\n",
    "    dims=(\"northing\", \"easting\"),\n",
    ").upward\n",
    "\n",
    "grav_df = vd.grid_to_table(observations)\n",
    "\n",
    "grav_df[\"grav\"] = prisms.prism_layer.gravity(\n",
    "    coordinates=(\n",
    "        grav_df.easting,\n",
    "        grav_df.northing,\n",
    "        grav_df.upward,\n",
    "    ),\n",
    "    field=\"g_z\",\n",
    "    progressbar=True,\n",
    ")\n",
    "\n",
    "grav_df"
   ]
  },
  {
   "cell_type": "code",
   "execution_count": null,
   "metadata": {
    "execution": {
     "iopub.execute_input": "2024-02-22T01:02:27.957577Z",
     "iopub.status.busy": "2024-02-22T01:02:27.957432Z",
     "iopub.status.idle": "2024-02-22T01:02:28.099275Z",
     "shell.execute_reply": "2024-02-22T01:02:28.098844Z"
    }
   },
   "outputs": [],
   "source": [
    "# contaminate gravity with 0.2 mGal of random noise\n",
    "grav_df[\"gravity_anomaly\"], stddev = synthetic.contaminate(\n",
    "    grav_df.grav,\n",
    "    stddev=0.2,\n",
    "    percent=False,\n",
    "    seed=0,\n",
    ")\n",
    "\n",
    "# plot the observed gravity\n",
    "fig = maps.plot_grd(\n",
    "    grav_df.set_index([\"northing\", \"easting\"]).to_xarray().gravity_anomaly,\n",
    "    fig_height=10,\n",
    "    title=\"Observed gravity\",\n",
    "    cmap=\"balance+h0\",\n",
    "    grd2_cpt=True,\n",
    "    cbar_label=\"mGal\",\n",
    "    frame=[\"nSWe\", \"xaf10000\", \"yaf10000\"],\n",
    ")\n",
    "fig.show()"
   ]
  },
  {
   "cell_type": "markdown",
   "metadata": {},
   "source": [
    "## Gravity misfit\n",
    "Now we need to create a starting model of the topography to start the inversion with. Since here we have no knowledge of either the topography or the appropriate reference level (`zref`), the starting model is flat, and therefore it's forward gravity is 0. If you had a non-flat starting model, you would need to calculate it's forward gravity effect, and subtract it from our observed gravity to get a starting gravity misfit. \n",
    "\n",
    "In this simple case, we assume that we know the true density contrast and appropriate reference value for the topography (`zref`), and use these values to create our flat starting model. Note that in a real world scenario, these would be unknowns which would need to be carefully chosen, as explained in the following notebooks."
   ]
  },
  {
   "cell_type": "code",
   "execution_count": null,
   "metadata": {
    "execution": {
     "iopub.execute_input": "2024-02-22T01:02:28.101716Z",
     "iopub.status.busy": "2024-02-22T01:02:28.101602Z",
     "iopub.status.idle": "2024-02-22T01:02:28.223149Z",
     "shell.execute_reply": "2024-02-22T01:02:28.222356Z"
    }
   },
   "outputs": [],
   "source": [
    "# create flat topography grid with a constant height\n",
    "starting_topography = xr.full_like(true_topography, zref)\n",
    "\n",
    "# prisms are created between zref and the height of the topography, which for this\n",
    "# starting model is flat.\n",
    "# prisms above zref have positive density contrast and prisms below zref have negative\n",
    "# density contrast\n",
    "density_grid = xr.where(starting_topography >= zref, density_dist, -density_dist)\n",
    "\n",
    "# create layer of prisms\n",
    "starting_prisms = utils.grids_to_prisms(\n",
    "    starting_topography,\n",
    "    zref,\n",
    "    density=density_grid,\n",
    ")\n",
    "\n",
    "# currently not working with flat layers\n",
    "# plotting.show_prism_layers(\n",
    "#     starting_prisms,\n",
    "#     color_by=\"thickness\",\n",
    "#     log_scale=False,\n",
    "#     zscale=20,\n",
    "#     backend=\"static\",\n",
    "# )\n",
    "starting_prisms.density.plot()"
   ]
  },
  {
   "cell_type": "code",
   "execution_count": null,
   "metadata": {
    "execution": {
     "iopub.execute_input": "2024-02-22T01:02:28.225720Z",
     "iopub.status.busy": "2024-02-22T01:02:28.225600Z",
     "iopub.status.idle": "2024-02-22T01:02:28.245969Z",
     "shell.execute_reply": "2024-02-22T01:02:28.245399Z"
    }
   },
   "outputs": [],
   "source": [
    "# since our starting model is flat, the starting gravity is 0\n",
    "grav_df[\"starting_gravity\"] = 0\n",
    "\n",
    "# in many cases, we want to remove a regional signal from the misfit to isolate the\n",
    "# residual signal. In this simple case, we assume there is no regional misfit and set\n",
    "# it to 0\n",
    "grav_df = regional.regional_separation(\n",
    "    method=\"constant\",\n",
    "    constant=0,\n",
    "    grav_df=grav_df,\n",
    ")\n",
    "\n",
    "grav_df.describe()"
   ]
  },
  {
   "cell_type": "markdown",
   "metadata": {},
   "source": [
    "## Perform inversion\n",
    "Now that we have a starting model and residual gravity misfit data we can start the inversion."
   ]
  },
  {
   "cell_type": "code",
   "execution_count": null,
   "metadata": {
    "execution": {
     "iopub.execute_input": "2024-02-22T01:02:28.248236Z",
     "iopub.status.busy": "2024-02-22T01:02:28.248110Z",
     "iopub.status.idle": "2024-02-22T01:02:32.807786Z",
     "shell.execute_reply": "2024-02-22T01:02:32.807425Z"
    }
   },
   "outputs": [],
   "source": [
    "logging.getLogger().setLevel(logging.WARN)\n",
    "\n",
    "# run the inversion\n",
    "results = inversion.run_inversion(\n",
    "    grav_df=grav_df,\n",
    "    prism_layer=starting_prisms,\n",
    "    solver_damping=0.1,\n",
    "    # set stopping criteria\n",
    "    max_iterations=30,\n",
    "    l2_norm_tolerance=0.45,  # gravity error is .2 mGal, L2-norm is sqrt(mGal) so ~0.45\n",
    "    delta_l2_norm_tolerance=1.005,\n",
    "    #  display the convergence of the inversion\n",
    "    plot_dynamic_convergence=True,\n",
    ")\n",
    "\n",
    "# collect the results\n",
    "topo_results, grav_results, parameters, elapsed_time = results"
   ]
  },
  {
   "cell_type": "code",
   "execution_count": null,
   "metadata": {
    "execution": {
     "iopub.execute_input": "2024-02-22T01:02:32.809536Z",
     "iopub.status.busy": "2024-02-22T01:02:32.809422Z",
     "iopub.status.idle": "2024-02-22T01:02:35.816799Z",
     "shell.execute_reply": "2024-02-22T01:02:35.816192Z"
    }
   },
   "outputs": [],
   "source": [
    "plotting.plot_inversion_results(\n",
    "    grav_results,\n",
    "    topo_results,\n",
    "    parameters,\n",
    "    region,\n",
    "    iters_to_plot=3,\n",
    "    plot_iter_results=True,\n",
    "    plot_topo_results=True,\n",
    "    plot_grav_results=True,\n",
    ")"
   ]
  },
  {
   "cell_type": "code",
   "execution_count": null,
   "metadata": {},
   "outputs": [],
   "source": [
    "final_topography = topo_results.set_index([\"northing\", \"easting\"]).to_xarray().topo\n",
    "\n",
    "_ = polar_utils.grd_compare(\n",
    "    true_topography,\n",
    "    final_topography,\n",
    "    # plot_type=\"xarray\",\n",
    "    plot=True,\n",
    "    grid1_name=\"True topography\",\n",
    "    grid2_name=\"Inverted topography\",\n",
    "    robust=True,\n",
    "    hist=True,\n",
    "    inset=False,\n",
    "    verbose=\"q\",\n",
    "    title=\"difference\",\n",
    "    grounding_line=False,\n",
    "    reverse_cpt=True,\n",
    "    cmap=\"rain\",\n",
    "    diff_lims=(-20, 20),\n",
    ")"
   ]
  }
 ],
 "metadata": {
  "kernelspec": {
   "display_name": "invert4geom",
   "language": "python",
   "name": "python3"
  },
  "language_info": {
   "codemirror_mode": {
    "name": "ipython",
    "version": 3
   },
   "file_extension": ".py",
   "mimetype": "text/x-python",
   "name": "python",
   "nbconvert_exporter": "python",
   "pygments_lexer": "ipython3",
   "version": "3.12.5"
  },
  "widgets": {
   "application/vnd.jupyter.widget-state+json": {
    "state": {
     "17e9c8cb78d64079aa722121177b37b7": {
      "model_module": "@jupyter-widgets/controls",
      "model_module_version": "2.0.0",
      "model_name": "ProgressStyleModel",
      "state": {
       "_model_module": "@jupyter-widgets/controls",
       "_model_module_version": "2.0.0",
       "_model_name": "ProgressStyleModel",
       "_view_count": null,
       "_view_module": "@jupyter-widgets/base",
       "_view_module_version": "2.0.0",
       "_view_name": "StyleView",
       "bar_color": null,
       "description_width": ""
      }
     },
     "1888fe899b4d40d3a3f14d999e443c07": {
      "model_module": "@jupyter-widgets/base",
      "model_module_version": "2.0.0",
      "model_name": "LayoutModel",
      "state": {
       "_model_module": "@jupyter-widgets/base",
       "_model_module_version": "2.0.0",
       "_model_name": "LayoutModel",
       "_view_count": null,
       "_view_module": "@jupyter-widgets/base",
       "_view_module_version": "2.0.0",
       "_view_name": "LayoutView",
       "align_content": null,
       "align_items": null,
       "align_self": null,
       "border_bottom": null,
       "border_left": null,
       "border_right": null,
       "border_top": null,
       "bottom": null,
       "display": "inline-flex",
       "flex": null,
       "flex_flow": "row wrap",
       "grid_area": null,
       "grid_auto_columns": null,
       "grid_auto_flow": null,
       "grid_auto_rows": null,
       "grid_column": null,
       "grid_gap": null,
       "grid_row": null,
       "grid_template_areas": null,
       "grid_template_columns": null,
       "grid_template_rows": null,
       "height": null,
       "justify_content": null,
       "justify_items": null,
       "left": null,
       "margin": null,
       "max_height": null,
       "max_width": null,
       "min_height": null,
       "min_width": null,
       "object_fit": null,
       "object_position": null,
       "order": null,
       "overflow": null,
       "padding": null,
       "right": null,
       "top": null,
       "visibility": null,
       "width": "100%"
      }
     },
     "2c33ed76ffcb46a4b82dd048bc5a13a2": {
      "model_module": "@jupyter-widgets/controls",
      "model_module_version": "2.0.0",
      "model_name": "HBoxModel",
      "state": {
       "_dom_classes": [],
       "_model_module": "@jupyter-widgets/controls",
       "_model_module_version": "2.0.0",
       "_model_name": "HBoxModel",
       "_view_count": null,
       "_view_module": "@jupyter-widgets/controls",
       "_view_module_version": "2.0.0",
       "_view_name": "HBoxView",
       "box_style": "",
       "children": [
        "IPY_MODEL_f9e878a687b94ea3a125dd489229661c",
        "IPY_MODEL_3daf0c7a8e0d48cfa305ce05e1fa2396",
        "IPY_MODEL_f9a4d967844246129e9abadeddfc49b4"
       ],
       "layout": "IPY_MODEL_1888fe899b4d40d3a3f14d999e443c07",
       "tabbable": null,
       "tooltip": null
      }
     },
     "3daf0c7a8e0d48cfa305ce05e1fa2396": {
      "model_module": "@jupyter-widgets/controls",
      "model_module_version": "2.0.0",
      "model_name": "FloatProgressModel",
      "state": {
       "_dom_classes": [],
       "_model_module": "@jupyter-widgets/controls",
       "_model_module_version": "2.0.0",
       "_model_name": "FloatProgressModel",
       "_view_count": null,
       "_view_module": "@jupyter-widgets/controls",
       "_view_module_version": "2.0.0",
       "_view_name": "ProgressView",
       "bar_style": "success",
       "description": "",
       "description_allow_html": false,
       "layout": "IPY_MODEL_6bd288769bbc4e96ae3f25d18f86e57c",
       "max": 1271,
       "min": 0,
       "orientation": "horizontal",
       "style": "IPY_MODEL_17e9c8cb78d64079aa722121177b37b7",
       "tabbable": null,
       "tooltip": null,
       "value": 1271
      }
     },
     "57f40132e5bd479fa8d7293bc503aae9": {
      "model_module": "@jupyter-widgets/controls",
      "model_module_version": "2.0.0",
      "model_name": "HTMLStyleModel",
      "state": {
       "_model_module": "@jupyter-widgets/controls",
       "_model_module_version": "2.0.0",
       "_model_name": "HTMLStyleModel",
       "_view_count": null,
       "_view_module": "@jupyter-widgets/base",
       "_view_module_version": "2.0.0",
       "_view_name": "StyleView",
       "background": null,
       "description_width": "",
       "font_size": null,
       "text_color": null
      }
     },
     "6bd288769bbc4e96ae3f25d18f86e57c": {
      "model_module": "@jupyter-widgets/base",
      "model_module_version": "2.0.0",
      "model_name": "LayoutModel",
      "state": {
       "_model_module": "@jupyter-widgets/base",
       "_model_module_version": "2.0.0",
       "_model_name": "LayoutModel",
       "_view_count": null,
       "_view_module": "@jupyter-widgets/base",
       "_view_module_version": "2.0.0",
       "_view_name": "LayoutView",
       "align_content": null,
       "align_items": null,
       "align_self": null,
       "border_bottom": null,
       "border_left": null,
       "border_right": null,
       "border_top": null,
       "bottom": null,
       "display": null,
       "flex": "2",
       "flex_flow": null,
       "grid_area": null,
       "grid_auto_columns": null,
       "grid_auto_flow": null,
       "grid_auto_rows": null,
       "grid_column": null,
       "grid_gap": null,
       "grid_row": null,
       "grid_template_areas": null,
       "grid_template_columns": null,
       "grid_template_rows": null,
       "height": null,
       "justify_content": null,
       "justify_items": null,
       "left": null,
       "margin": null,
       "max_height": null,
       "max_width": null,
       "min_height": null,
       "min_width": null,
       "object_fit": null,
       "object_position": null,
       "order": null,
       "overflow": null,
       "padding": null,
       "right": null,
       "top": null,
       "visibility": null,
       "width": null
      }
     },
     "b18e126264e24aa093038b79c68500d1": {
      "model_module": "@jupyter-widgets/base",
      "model_module_version": "2.0.0",
      "model_name": "LayoutModel",
      "state": {
       "_model_module": "@jupyter-widgets/base",
       "_model_module_version": "2.0.0",
       "_model_name": "LayoutModel",
       "_view_count": null,
       "_view_module": "@jupyter-widgets/base",
       "_view_module_version": "2.0.0",
       "_view_name": "LayoutView",
       "align_content": null,
       "align_items": null,
       "align_self": null,
       "border_bottom": null,
       "border_left": null,
       "border_right": null,
       "border_top": null,
       "bottom": null,
       "display": null,
       "flex": null,
       "flex_flow": null,
       "grid_area": null,
       "grid_auto_columns": null,
       "grid_auto_flow": null,
       "grid_auto_rows": null,
       "grid_column": null,
       "grid_gap": null,
       "grid_row": null,
       "grid_template_areas": null,
       "grid_template_columns": null,
       "grid_template_rows": null,
       "height": null,
       "justify_content": null,
       "justify_items": null,
       "left": null,
       "margin": null,
       "max_height": null,
       "max_width": null,
       "min_height": null,
       "min_width": null,
       "object_fit": null,
       "object_position": null,
       "order": null,
       "overflow": null,
       "padding": null,
       "right": null,
       "top": null,
       "visibility": null,
       "width": null
      }
     },
     "eab71e651b3949a9b3d176c0a22616a1": {
      "model_module": "@jupyter-widgets/base",
      "model_module_version": "2.0.0",
      "model_name": "LayoutModel",
      "state": {
       "_model_module": "@jupyter-widgets/base",
       "_model_module_version": "2.0.0",
       "_model_name": "LayoutModel",
       "_view_count": null,
       "_view_module": "@jupyter-widgets/base",
       "_view_module_version": "2.0.0",
       "_view_name": "LayoutView",
       "align_content": null,
       "align_items": null,
       "align_self": null,
       "border_bottom": null,
       "border_left": null,
       "border_right": null,
       "border_top": null,
       "bottom": null,
       "display": null,
       "flex": null,
       "flex_flow": null,
       "grid_area": null,
       "grid_auto_columns": null,
       "grid_auto_flow": null,
       "grid_auto_rows": null,
       "grid_column": null,
       "grid_gap": null,
       "grid_row": null,
       "grid_template_areas": null,
       "grid_template_columns": null,
       "grid_template_rows": null,
       "height": null,
       "justify_content": null,
       "justify_items": null,
       "left": null,
       "margin": null,
       "max_height": null,
       "max_width": null,
       "min_height": null,
       "min_width": null,
       "object_fit": null,
       "object_position": null,
       "order": null,
       "overflow": null,
       "padding": null,
       "right": null,
       "top": null,
       "visibility": null,
       "width": null
      }
     },
     "eeda9af66779454085ea0ab66b03d0cc": {
      "model_module": "@jupyter-widgets/controls",
      "model_module_version": "2.0.0",
      "model_name": "HTMLStyleModel",
      "state": {
       "_model_module": "@jupyter-widgets/controls",
       "_model_module_version": "2.0.0",
       "_model_name": "HTMLStyleModel",
       "_view_count": null,
       "_view_module": "@jupyter-widgets/base",
       "_view_module_version": "2.0.0",
       "_view_name": "StyleView",
       "background": null,
       "description_width": "",
       "font_size": null,
       "text_color": null
      }
     },
     "f9a4d967844246129e9abadeddfc49b4": {
      "model_module": "@jupyter-widgets/controls",
      "model_module_version": "2.0.0",
      "model_name": "HTMLModel",
      "state": {
       "_dom_classes": [],
       "_model_module": "@jupyter-widgets/controls",
       "_model_module_version": "2.0.0",
       "_model_name": "HTMLModel",
       "_view_count": null,
       "_view_module": "@jupyter-widgets/controls",
       "_view_module_version": "2.0.0",
       "_view_name": "HTMLView",
       "description": "",
       "description_allow_html": false,
       "layout": "IPY_MODEL_b18e126264e24aa093038b79c68500d1",
       "placeholder": "​",
       "style": "IPY_MODEL_57f40132e5bd479fa8d7293bc503aae9",
       "tabbable": null,
       "tooltip": null,
       "value": " 1271/1271 [00:00&lt;00:00, 1443.21it/s]"
      }
     },
     "f9e878a687b94ea3a125dd489229661c": {
      "model_module": "@jupyter-widgets/controls",
      "model_module_version": "2.0.0",
      "model_name": "HTMLModel",
      "state": {
       "_dom_classes": [],
       "_model_module": "@jupyter-widgets/controls",
       "_model_module_version": "2.0.0",
       "_model_name": "HTMLModel",
       "_view_count": null,
       "_view_module": "@jupyter-widgets/controls",
       "_view_module_version": "2.0.0",
       "_view_name": "HTMLView",
       "description": "",
       "description_allow_html": false,
       "layout": "IPY_MODEL_eab71e651b3949a9b3d176c0a22616a1",
       "placeholder": "​",
       "style": "IPY_MODEL_eeda9af66779454085ea0ab66b03d0cc",
       "tabbable": null,
       "tooltip": null,
       "value": "100%"
      }
     }
    },
    "version_major": 2,
    "version_minor": 0
   }
  }
 },
 "nbformat": 4,
 "nbformat_minor": 2
}
